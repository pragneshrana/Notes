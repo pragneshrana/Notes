{
  "nbformat": 4,
  "nbformat_minor": 0,
  "metadata": {
    "colab": {
      "name": "Characteristic Equation .ipynb",
      "provenance": [],
      "include_colab_link": true
    },
    "kernelspec": {
      "name": "python3",
      "display_name": "Python 3"
    }
  },
  "cells": [
    {
      "cell_type": "markdown",
      "metadata": {
        "id": "view-in-github",
        "colab_type": "text"
      },
      "source": [
        "<a href=\"https://colab.research.google.com/github/pragneshrana/Notes/blob/master/Characteristic_Equation_.ipynb\" target=\"_parent\"><img src=\"https://colab.research.google.com/assets/colab-badge.svg\" alt=\"Open In Colab\"/></a>"
      ]
    },
    {
      "cell_type": "markdown",
      "metadata": {
        "id": "BfFKxCllGpYP",
        "colab_type": "text"
      },
      "source": [
        "REF : https://math.stackexchange.com/questions/2286271/how-to-decouple-a-system-of-odes\n",
        "\n",
        "What is actually characertic equation?\n",
        "\n",
        "This might be the one way to look at the eigen value and vectors. \\\n",
        "Let's take coupled differntial equation. \\\n",
        "$\n",
        "\\dfrac{dx}{dt}  =  ax+by \\\\\n",
        "\\dfrac{dy}{dt}= cx+ dy \\\\\n",
        "$ \\\\\n",
        "Variable : x and y \\\n",
        "\n",
        "As these both equationa contains cross terms it is not possible solve system independently as change in one variable also causes change in other variable. \\\n",
        "\n",
        "To solve the system  we have to decouple the equation,\n",
        "\n",
        "$$\n",
        "\\frac d{dt}\n",
        "\\begin{bmatrix}x\\\\y\\end{bmatrix} = \n",
        "\\begin{bmatrix}\n",
        "a & b\\\\\n",
        "c & d\n",
        "\\end{bmatrix}  \n",
        "\\cdot\n",
        "\\begin{bmatrix}\n",
        "x\\\\\n",
        "y\\end{bmatrix}\n",
        "$$\n",
        "\n",
        "Now, decompose the matrix \n",
        "$ \n",
        "\\begin{bmatrix}\n",
        "a & b\\\\\n",
        "c & d\n",
        "\\end{bmatrix}\n",
        "$ into jordan normal form,\n",
        "we can write matrix in the form of $SJS^{-1}$ form where J is diagonal matrix.\n",
        "Finally we can get define $z =\\alpha x + \\beta y $ and $ w=\\gamma x + \\delta y $\n",
        "from which we get system like, [To have more insight just look at the answer given in refrence] \\\n",
        "$\n",
        "\\dfrac{dz}{dt}  =  kz\\\\\n",
        "\\dfrac{dw}{dt}= \\lambda w \\\\\n",
        "$ \\\\\n",
        "it is easy to solve such decoupled system of equation and we can get solution as $z = A e^{zt}$ and $w = B  e^{wt}$\n",
        "\n",
        "\n",
        "$$\n",
        "\\frac d{dt}\n",
        "\\begin{bmatrix}z\\\\w\\end{bmatrix} = \n",
        "\\begin{bmatrix}\n",
        "k & \n",
        "\\end{bmatrix}  \n",
        "\\cdot\n",
        "\\begin{bmatrix}\n",
        "x\\\\\n",
        "y\\end{bmatrix}\n",
        "$$\n",
        "\n"
      ]
    }
  ]
}